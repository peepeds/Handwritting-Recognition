{
 "cells": [
  {
   "cell_type": "code",
   "execution_count": 1,
   "metadata": {},
   "outputs": [],
   "source": [
    "import cv2\n",
    "import numpy as np\n",
    "import matplotlib.pyplot as plt\n",
    "import matplotlib.image as mpimg\n",
    "\n",
    "\n",
    "import tensorflow as tf\n",
    "from keras.models import Model # type: ignore\n",
    "from keras.layers import Input, Conv2D, MaxPooling2D, Reshape, Bidirectional, LSTM, Dense, Lambda, Activation, BatchNormalization, Dropout # type: ignore\n",
    "from keras.optimizers import Adam # type: ignore"
   ]
  },
  {
   "cell_type": "code",
   "execution_count": 2,
   "metadata": {},
   "outputs": [],
   "source": [
    "alphabets = \"ABCDEFGHIJKLMNOPQRSTUVWXYZ-' \"  # The set of valid characters\n",
    "max_str_len = 50                             # Maximum length of input labels\n",
    "num_of_characters = len(alphabets) + 1       # Number of unique characters, plus 1 for CTC pseudo-blank\n",
    "num_of_timestamps = 64   "
   ]
  },
  {
   "cell_type": "code",
   "execution_count": 3,
   "metadata": {},
   "outputs": [],
   "source": [
    "path_to_model_weight = 'trained_model_13_3.h5' # the best model weight\n",
    "#path_to_model_weight = 'trained_model_12_3.h5' # previous version\n",
    "\n",
    "\n",
    "# Define the input layer with a shape of (256, 64, 1) for grayscale images\n",
    "input_data = Input(shape=(256, 64, 1), name='input')\n",
    "\n",
    "# Convolutional Layer 1: 32 filters, (3, 3) kernel, 'same' padding, He normal initialization\n",
    "inner = Conv2D(32, (3, 3), padding='same', name='conv1', kernel_initializer='he_normal')(input_data)\n",
    "inner = BatchNormalization()(inner)  # Batch normalization\n",
    "inner = Activation('relu')(inner)  # ReLU activation\n",
    "inner = MaxPooling2D(pool_size=(2, 2), name='max1')(inner)  # Max-pooling\n",
    "\n",
    "# Convolutional Layer 2: 64 filters, (3, 3) kernel, 'same' padding, He normal initialization\n",
    "inner = Conv2D(64, (3, 3), padding='same', name='conv2', kernel_initializer='he_normal')(inner)\n",
    "inner = BatchNormalization()(inner)\n",
    "inner = Activation('relu')(inner)\n",
    "inner = MaxPooling2D(pool_size=(2, 2), name='max2')(inner)\n",
    "inner = Dropout(0.3)(inner)\n",
    "\n",
    "# Convolutional Layer 3: 128 filters, (3, 3) kernel, 'same' padding, He normal initialization\n",
    "inner = Conv2D(128, (3, 3), padding='same', name='conv3', kernel_initializer='he_normal')(inner)\n",
    "inner = BatchNormalization()(inner)\n",
    "inner = Activation('relu')(inner)\n",
    "inner = MaxPooling2D(pool_size=(1, 2), name='max3')(inner)\n",
    "inner = Dropout(0.3)(inner)\n",
    "\n",
    "# Reshape the output for sequence processing\n",
    "inner = Reshape(target_shape=((64, 1024)), name='reshape')(inner)\n",
    "\n",
    "# Fully Connected Layer 1: 64 units, ReLU activation, He normal initialization\n",
    "inner = Dense(64, activation='relu', kernel_initializer='he_normal', name='dense1')(inner)\n",
    "\n",
    "# Bidirectional LSTM Layers: 256 units, return sequences\n",
    "inner = Bidirectional(LSTM(256, return_sequences=True), name='lstm1')(inner)\n",
    "inner = Bidirectional(LSTM(256, return_sequences=True), name='lstm2')(inner)\n",
    "\n",
    "# Output Layer: Number of characters, He normal initialization\n",
    "inner = Dense(num_of_characters, kernel_initializer='he_normal', name='dense2')(inner)\n",
    "y_pred = Activation('softmax', name='softmax')(inner)  # Softmax activation\n",
    "# Create the model with input and output layers\n",
    "model = Model(inputs=input_data, outputs=y_pred)\n",
    "\n",
    "model.load_weights(path_to_model_weight)\n",
    "\n",
    "# The ctc loss function\n",
    "def ctc_lambda_func(args):\n",
    "    y_pred, labels, input_length, label_length = args\n",
    "    # The 2 is critical here since the first couple outputs of the RNN tend to be garbage\n",
    "    y_pred = y_pred[:, 2:, :]\n",
    "    return tf.keras.backend.ctc_batch_cost(labels, y_pred, input_length, label_length)\n",
    "\n",
    "\n",
    "# Define input placeholders for true labels, input sequence length, and label sequence length\n",
    "labels = Input(name='gtruth_labels', shape=[max_str_len], dtype='float32')\n",
    "input_length = Input(name='input_length', shape=[1], dtype='int64')\n",
    "label_length = Input(name='label_length', shape=[1], dtype='int64')\n",
    "\n",
    "# Calculate CTC loss using the ctc_lambda_func function\n",
    "ctc_loss = Lambda(ctc_lambda_func, output_shape=(1,), name='ctc')([y_pred, labels, input_length, label_length])\n",
    "\n",
    "# Create the final model that takes input data, true labels, input length, and label length\n",
    "model_final = Model(inputs=[input_data, labels, input_length, label_length], outputs=ctc_loss)\n",
    "# Compile the final model with a dummy loss lambda function (loss calculation occurs elsewhere)\n",
    "# The optimizer used is Adam with a learning rate of 0.0001\n",
    "model_final.compile(loss={'ctc': lambda y_true, y_pred: y_pred}, optimizer=Adam(learning_rate=0.0001))"
   ]
  },
  {
   "cell_type": "code",
   "execution_count": 4,
   "metadata": {},
   "outputs": [],
   "source": [
    "# Fuction to preprocess the img\n",
    "def preprocess(img):\n",
    "    (h, w) = img.shape                                    # Getting the height & width of the image\n",
    "    \n",
    "    final_img = np.ones([64, 256])*255                    # Blank white image\n",
    "    \n",
    "    # crop    \n",
    "    if h > 64:\n",
    "        img = img[:64, :]                                 # If the h>64 then it is cropped to 64\n",
    "        \n",
    "    if w > 256:\n",
    "        img = img[:, :256]                                # If the w>256 then it is cropped to 256\n",
    "    \n",
    "    final_img[:h, :w] = img\n",
    "    return cv2.rotate(final_img, cv2.ROTATE_90_CLOCKWISE) # Rotate 90° Clockwise & return"
   ]
  },
  {
   "cell_type": "code",
   "execution_count": 5,
   "metadata": {},
   "outputs": [],
   "source": [
    "def label_to_num(label):\n",
    "    return np.array([alphabets.find(ch) for ch in label])\n",
    "\n",
    "\n",
    "def num_to_label(num):\n",
    "    return ''.join([alphabets[ch] for ch in num if ch != -1])\n",
    "\n",
    "blank_label = -1"
   ]
  },
  {
   "cell_type": "code",
   "execution_count": 6,
   "metadata": {},
   "outputs": [],
   "source": [
    "def resize_with_aspect_ratio(image, target_size=(64, 256)):\n",
    "    (h, w) = image.shape\n",
    "    target_h, target_w = target_size\n",
    "    \n",
    "    scale = min(target_h / h, target_w / w)  # Calculate scale to fit target size\n",
    "    new_h = int(h * scale)\n",
    "    new_w = int(w * scale)\n",
    "    \n",
    "    resized_img = cv2.resize(image, (new_w, new_h), interpolation=cv2.INTER_AREA)  # Resize while preserving aspect ratio\n",
    "    final_img = np.ones((target_h, target_w)) * 255  # Blank white image of target size\n",
    "    final_img[:new_h, :new_w] = resized_img  # Place resized image in top-left corner\n",
    "    \n",
    "    return final_img"
   ]
  },
  {
   "cell_type": "code",
   "execution_count": 7,
   "metadata": {},
   "outputs": [],
   "source": [
    "def predict(image):\n",
    "    image = cv2.cvtColor(image, cv2.COLOR_BGR2GRAY) if len(image.shape) == 3 else image\n",
    "    image = preprocess(image)\n",
    "    image = image / 255.0\n",
    "    \n",
    "    # Reshape the image to have a batch size of 1\n",
    "    image = image.reshape(1, 256, 64, 1)\n",
    "    \n",
    "    pred = model.predict(image)\n",
    "    decoded = tf.keras.backend.get_value(\n",
    "        tf.keras.backend.ctc_decode(pred, input_length=np.ones(pred.shape[0]) * pred.shape[1], greedy=True)[0][0]\n",
    "    )\n",
    "    \n",
    "    return num_to_label(decoded[0])"
   ]
  },
  {
   "cell_type": "code",
   "execution_count": 8,
   "metadata": {},
   "outputs": [],
   "source": [
    "def sliding_window_prediction(image, window_size=(64, 256), step_size=128):\n",
    "    (h, w) = image.shape\n",
    "    \n",
    "    if h < window_size[0]:  # Pad height if it's smaller than 64\n",
    "        padding_h = window_size[0] - h\n",
    "        image = np.pad(image, ((0, padding_h), (0, 0)), 'constant', constant_values=255)\n",
    "    \n",
    "    if w < window_size[1]:  # Pad width if it's smaller than 256\n",
    "        padding_w = window_size[1] - w\n",
    "        image = np.pad(image, ((0, 0), (0, padding_w)), 'constant', constant_values=255)\n",
    "    \n",
    "    results = []\n",
    "    \n",
    "    for x in range(0, w - window_size[1] + 1, step_size):  # Slide window horizontally\n",
    "        window = image[:, x:x + window_size[1]]  # Extract the window\n",
    "        pred_text = predict(window)  # Predict text in the window\n",
    "        results.append(pred_text)  \n",
    "    \n",
    "    return ''.join(results)  # Combine predictions from all windows"
   ]
  },
  {
   "cell_type": "code",
   "execution_count": 9,
   "metadata": {},
   "outputs": [],
   "source": [
    "def pad_image_to_fixed_size(image, target_size=(64, 256)):\n",
    "    (h, w) = image.shape\n",
    "    target_h, target_w = target_size\n",
    "    \n",
    "    if h > target_h:  # Crop height if larger than target\n",
    "        image = image[:target_h, :]\n",
    "    \n",
    "    final_img = np.ones(target_size) * 255  # Blank white image\n",
    "    final_img[:h, :w] = image  # Place original image in top-left corner\n",
    "    \n",
    "    return final_img"
   ]
  },
  {
   "cell_type": "code",
   "execution_count": 10,
   "metadata": {},
   "outputs": [],
   "source": [
    "def process_large_image(image, part_width=256):\n",
    "    (h, w) = image.shape\n",
    "    results = []\n",
    "    \n",
    "    for start_x in range(0, w, part_width):  # Divide image into sub-images\n",
    "        part_img = image[:, start_x:start_x + part_width]  # Extract part of the image\n",
    "        padded_img = pad_image_to_fixed_size(part_img)  # Pad to fixed size (64, 256)\n",
    "        pred_text = predict(padded_img)  # Predict text for the sub-image\n",
    "        results.append(pred_text)  \n",
    "    \n",
    "    return ''.join(results)  # Combine predictions from all sub-images"
   ]
  },
  {
   "cell_type": "code",
   "execution_count": 11,
   "metadata": {},
   "outputs": [],
   "source": [
    "def postprocess(image,text):\n",
    "    if(text[-4:]== 'EPTY'):\n",
    "        text = text[:-4]\n",
    "\n",
    "    image = mpimg.imread(image)\n",
    "    plt.imshow(image)\n",
    "    plt.axis('off')  # Menyembunyikan axis\n",
    "    plt.show()\n",
    "\n",
    "    print(\"predicted:\",text)\n",
    "    print(\"len:\",len(text))\n",
    "    print('')"
   ]
  },
  {
   "cell_type": "code",
   "execution_count": 12,
   "metadata": {},
   "outputs": [
    {
     "name": "stdout",
     "output_type": "stream",
     "text": [
      "index 0\n",
      "prepared image to analyse\n",
      "\u001b[1m1/1\u001b[0m \u001b[32m━━━━━━━━━━━━━━━━━━━━\u001b[0m\u001b[37m\u001b[0m \u001b[1m0s\u001b[0m 467ms/step\n",
      "\u001b[1m1/1\u001b[0m \u001b[32m━━━━━━━━━━━━━━━━━━━━\u001b[0m\u001b[37m\u001b[0m \u001b[1m0s\u001b[0m 33ms/step\n",
      "\u001b[1m1/1\u001b[0m \u001b[32m━━━━━━━━━━━━━━━━━━━━\u001b[0m\u001b[37m\u001b[0m \u001b[1m0s\u001b[0m 35ms/step\n"
     ]
    },
    {
     "data": {
      "image/png": "[encoded data removed]",
      "text/plain": [
       "<Figure size 640x480 with 1 Axes>"
      ]
     },
     "metadata": {},
     "output_type": "display_data"
    },
    {
     "name": "stdout",
     "output_type": "stream",
     "text": [
      "predicted: TOUNADE NO BAAECHAN KATA UZLMAKI NARUTO\n",
      "len: 39\n",
      "\n",
      "index 1\n",
      "prepared image to analyse\n"
     ]
    },
    {
     "name": "stderr",
     "output_type": "stream",
     "text": [
      "[ WARN:0@4.811] global loadsave.cpp:241 findDecoder imread_('./test_v2/test/Capital/37-41/TEST_1.png'): can't open/read file: check file path/integrity\n"
     ]
    },
    {
     "ename": "AttributeError",
     "evalue": "'NoneType' object has no attribute 'shape'",
     "output_type": "error",
     "traceback": [
      "\u001b[0;31m---------------------------------------------------------------------------\u001b[0m",
      "\u001b[0;31mAttributeError\u001b[0m                            Traceback (most recent call last)",
      "Cell \u001b[0;32mIn[12], line 7\u001b[0m\n\u001b[1;32m      5\u001b[0m name \u001b[38;5;241m=\u001b[39m \u001b[38;5;124mf\u001b[39m\u001b[38;5;124m'\u001b[39m\u001b[38;5;124m./test_v2/test/Capital/37-41/TEST_\u001b[39m\u001b[38;5;132;01m{\u001b[39;00mi\u001b[38;5;132;01m}\u001b[39;00m\u001b[38;5;124m.png\u001b[39m\u001b[38;5;124m'\u001b[39m\n\u001b[1;32m      6\u001b[0m image \u001b[38;5;241m=\u001b[39m cv2\u001b[38;5;241m.\u001b[39mimread(name, cv2\u001b[38;5;241m.\u001b[39mIMREAD_GRAYSCALE)  \u001b[38;5;66;03m# Read grayscale image\u001b[39;00m\n\u001b[0;32m----> 7\u001b[0m result_text \u001b[38;5;241m=\u001b[39m \u001b[43mprocess_large_image\u001b[49m\u001b[43m(\u001b[49m\u001b[43mimage\u001b[49m\u001b[43m)\u001b[49m\n\u001b[1;32m      8\u001b[0m postprocess(name,result_text)\n",
      "Cell \u001b[0;32mIn[10], line 2\u001b[0m, in \u001b[0;36mprocess_large_image\u001b[0;34m(image, part_width)\u001b[0m\n\u001b[1;32m      1\u001b[0m \u001b[38;5;28;01mdef\u001b[39;00m \u001b[38;5;21mprocess_large_image\u001b[39m(image, part_width\u001b[38;5;241m=\u001b[39m\u001b[38;5;241m256\u001b[39m):\n\u001b[0;32m----> 2\u001b[0m     (h, w) \u001b[38;5;241m=\u001b[39m \u001b[43mimage\u001b[49m\u001b[38;5;241;43m.\u001b[39;49m\u001b[43mshape\u001b[49m\n\u001b[1;32m      3\u001b[0m     results \u001b[38;5;241m=\u001b[39m []\n\u001b[1;32m      5\u001b[0m     \u001b[38;5;28;01mfor\u001b[39;00m start_x \u001b[38;5;129;01min\u001b[39;00m \u001b[38;5;28mrange\u001b[39m(\u001b[38;5;241m0\u001b[39m, w, part_width):  \u001b[38;5;66;03m# Divide image into sub-images\u001b[39;00m\n",
      "\u001b[0;31mAttributeError\u001b[0m: 'NoneType' object has no attribute 'shape'"
     ]
    }
   ],
   "source": [
    "#1-4\n",
    "for i in range(0,3):\n",
    "    print(f'index {i}')\n",
    "    print('prepared image to analyse')\n",
    "    name = f'./test_v2/test/Capital/37-41/TEST_{i}.png'\n",
    "    image = cv2.imread(name, cv2.IMREAD_GRAYSCALE)  # Read grayscale image\n",
    "    result_text = process_large_image(image)\n",
    "    postprocess(name,result_text)\n",
    "\n",
    "    "
   ]
  },
  {
   "cell_type": "code",
   "execution_count": null,
   "metadata": {},
   "outputs": [],
   "source": [
    "string = 'TSUNADE NO BAACHAN KATA NARUTO UZUMAKI'\n",
    "print(len(string))"
   ]
  }
 ],
 "metadata": {
  "kernelspec": {
   "display_name": "myenv",
   "language": "python",
   "name": "python3"
  },
  "language_info": {
   "codemirror_mode": {
    "name": "ipython",
    "version": 3
   },
   "file_extension": ".py",
   "mimetype": "text/x-python",
   "name": "python",
   "nbconvert_exporter": "python",
   "pygments_lexer": "ipython3",
   "version": "3.12.7"
  }
 },
 "nbformat": 4,
 "nbformat_minor": 2
}
